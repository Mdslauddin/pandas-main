{
 "cells": [
  {
   "cell_type": "code",
   "execution_count": 4,
   "id": "2a879df1",
   "metadata": {},
   "outputs": [],
   "source": [
    "# Random Forest Algorithm on Sonar Dataset\n",
    "from random import seed\n",
    "from random import randrange\n",
    "from csv import reader\n",
    "from math import sqrt"
   ]
  },
  {
   "cell_type": "code",
   "execution_count": null,
   "id": "fd3f2864",
   "metadata": {},
   "outputs": [],
   "source": []
  },
  {
   "cell_type": "code",
   "execution_count": 5,
   "id": "5ade5d75",
   "metadata": {},
   "outputs": [],
   "source": [
    "def load_csv(filename):\n",
    "    \n",
    "    dataset = list()\n",
    "    with open(filename, 'r') as file:\n",
    "        \n",
    "        csv_reader = reader(file)\n",
    "        for row in csv_reader:\n",
    "            if not row:\n",
    "                continue\n",
    "            dataset.append(row)\n",
    "    return dataset"
   ]
  },
  {
   "cell_type": "code",
   "execution_count": 6,
   "id": "9c5af66a",
   "metadata": {},
   "outputs": [
    {
     "data": {
      "text/plain": [
       "[['Name', 'Gender', 'Age'],\n",
       " ['A', 'Male', '12'],\n",
       " ['B', 'Male', '34'],\n",
       " ['C ', 'Male', '45'],\n",
       " ['D', 'female', '23'],\n",
       " ['E', 'female', '84']]"
      ]
     },
     "execution_count": 6,
     "metadata": {},
     "output_type": "execute_result"
    }
   ],
   "source": [
    "load_csv('titanic_train.csv')"
   ]
  },
  {
   "cell_type": "code",
   "execution_count": 7,
   "id": "8183db29",
   "metadata": {},
   "outputs": [],
   "source": [
    "# Convert string column to float\n",
    "def str_column_to_float(dataset, column):\n",
    "   for row in dataset:\n",
    "       row[column] = float(row[column].strip())"
   ]
  },
  {
   "cell_type": "raw",
   "id": "2033ac63",
   "metadata": {},
   "source": [
    "<script src=\"https://gist.github.com/stormxuwz/48d4332ccbdc42821ff60355636f25fb.js\"></script>"
   ]
  },
  {
   "cell_type": "markdown",
   "id": "1477626e",
   "metadata": {},
   "source": [
    "https://gist.github.com/stormxuwz/48d4332ccbdc42821ff60355636f25fb"
   ]
  },
  {
   "cell_type": "code",
   "execution_count": null,
   "id": "c7e91af8",
   "metadata": {},
   "outputs": [],
   "source": []
  }
 ],
 "metadata": {
  "kernelspec": {
   "display_name": "Python 3 (ipykernel)",
   "language": "python",
   "name": "python3"
  },
  "language_info": {
   "codemirror_mode": {
    "name": "ipython",
    "version": 3
   },
   "file_extension": ".py",
   "mimetype": "text/x-python",
   "name": "python",
   "nbconvert_exporter": "python",
   "pygments_lexer": "ipython3",
   "version": "3.9.12"
  }
 },
 "nbformat": 4,
 "nbformat_minor": 5
}
